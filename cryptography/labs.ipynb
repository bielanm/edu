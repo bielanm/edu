{
 "cells": [
  {
   "cell_type": "code",
   "execution_count": 1,
   "metadata": {},
   "outputs": [],
   "source": [
    "from Crypto.Cipher import DES3\n",
    "from Crypto.Cipher import PKCS1_v1_5\n",
    "from Crypto.PublicKey import RSA\n",
    "\n",
    "from PIL import Image\n",
    "import math\n",
    "\n",
    "import numpy as np"
   ]
  },
  {
   "cell_type": "code",
   "execution_count": 3,
   "metadata": {},
   "outputs": [
    {
     "name": "stdout",
     "output_type": "stream",
     "text": [
      "This is the JCrypTool sample file.\n",
      "\n",
      "You can use this file for a fast start with JCrypTool, e.g. by\n",
      "encrypting or digitally signing it using the 'Algorithms' menu,\n",
      "or by applying one of the analysis offered in the\n",
      "'Analysis' menu.\n",
      "\n"
     ]
    }
   ],
   "source": [
    "student = b'Mykhailo Bielan'\n",
    "path = 'data/text.txt'\n",
    "\n",
    "with open(path, 'r') as file:\n",
    "    nothing_else_matters = file.read()\n",
    "print(nothing_else_matters)"
   ]
  },
  {
   "cell_type": "markdown",
   "metadata": {},
   "source": [
    "### DES"
   ]
  },
  {
   "cell_type": "code",
   "execution_count": 82,
   "metadata": {},
   "outputs": [
    {
     "name": "stdout",
     "output_type": "stream",
     "text": [
      "Encrypted:\n",
      "b'\\x92\\xc6)\\x8e\\x15J\\xbd\\xe6\\x91\\x99\\x88\\xa4B\\x9e\\xf7\\x9a\\x8b\\x08IO\\xbf\\xf27]x(\\x9cZ\\x0c\\x03\\xebb\\x03\\x03}d\\xe0\\xf7T\\xdf/\\xa3\\x92K\\x89\\xfaQ\\x9f9\\xd6\\xa2[\\xfa\\xc5\\xa8\\x0e\\xd5J\\xec\\xf4I\\xa9?\\xf8\\r\\xb2\\xc9\\x96Y\\xa8\\\\1G\\x19\\xf6\\xc0\\x1f\\xc1\\xdc\\xc8\\xed8a\\xaf\\x8c\\x80V\\xe7/\\x82WAA\\xd0\\xe8\\xa8\\x1a9\\xcb\\xf3\\xb9\\x93hN5\\xe2\\x87\\xc5B\\xc0)\\xa3\\xe0}R\\xc6\\xf9=P\\x99\\xec\\xd9A\\xe4\\xebVy+H\\x82\\xc0\\x80\\xe1]r\\x9c\\xcb\\xb14\\x10 \\xa9\\x88\\\\\\xe7S\\xa9T\\xb9J\\xa7\\x93\\x0ct\\xc3\\x82\\t7BY\\xda\\x18\\xfcf\\xe8I\\x0e\\xf1z\\xb3\\x8e\\xc7$\\xee\\xf8H\\x1a\\xaa\\xf6\\xff\\xb1*\\xee\\xbd4c/6\\x8ap\\'\\x18h>\\x8b\\x86\\x15\\xab\\xac\\x91\\xf3F\\x98\\xc1\\xbe\\x99\\x0esp;\\x1c:G\\xff\\x7f\\xf5\\x17.\\x11\\x01\\x0b#U\\xb8\\x9b4\\xf7\\x9e\\xb2L\\xc9\\xfd\\xbd\\x0b\\x93\\x83\\xfcV\\x19\\xd8\\x87P$\\xf6\\x97\\xff\\xe2(H\\x82\\xc0\\x80\\xe1]r\\x9c\\xcb\\xb14\\x10 \\xa9\\x88\\\\\\xe7S\\xa9T\\xb9J\\xa7\\x93W\\xe0\\x93j\\xa7Z9\\xe8\\x86\\xb9s\\xe4\\xd0\\x88~\\x8c{\\xac\\xc3\\x15\\xef\\xcf\\xd9Y\\xda,\\xc1\\xc3\\x1e\\xd8\\x94\\xa1\\x93\\xa6\\xc5a\\xba\\xc2\\xbb\\xdf\\x80bg@H\\xf5\\x8b\\xc5I\\xed\\x90\\xc6\\x9f$$\\xa2\\x9a$}\\x8b\\xbc\\t\\xee\\x15?T\\xe1e\\xc2\\xf7\\xcc\\xde\\r\\xf6\\xc0\\xc3\\xd4\\xab\\xf4A\\x04\\xa81]\\x8b\\xfe\\x14\\xc9\\xdf\\xc4\\x91\\x0f\\xe2\\x18\\x9a\\xb6|\\x19\\x9d\\xad$\\xbb\")\\xd7\\xd7\\\\\\xa7\\x96\\xdf\\xf9\\x87\\xce\\x19\\x9a\\x8b\\xeaV\\x17\\x88\\x0c\\xcaj4\\xd3\\xee Pm\\xe8F!8\\x03\\xe5\\xd7\\x11\\xbf(\\xc7\\xd2~z\\xef\\xa7\\xdc[\\xfa,\\xefP\\x8a!Qw\\x1ce\\xc1\\xab>K\\x8d\\xfa\\xfe\\xc0\\xe2\\xe1\\xcb$T\\xd5\\x8e@\\xa7\\xd5\\x88\\xba\\xe1h\\xdcBb\\xed5\\x0f4\\x84O\\xe7\\xdc\\xaa|\\xf3\\xe7\\x98\\xb1F\\xde\\x9dgZ\\x90q>(\\xe5\\xa67\\xd4\\x89\\xf2so\\xc0m\\xe3\\xca\\xd5\\xdbD$r\\x16\\xae@\\x01\\xd7\\xc3k\\xa2\\x9f\\xc7S\\xadX\"\\xa6\\xffb^E\\xd6\\x08\\xaf\\x04\\xb0\\x8f?\\x8b\\xa4\\xfa\\xeb\\xc4\\xb3O\\x1c\\xe6E.z\\xca\\x9bJ\\xb9hb\\xb0Hd\\x07\\xce\\xf4ZMz|\\xeahCu*\\x06\\x06\\'\\xdd\\xa9a\\x95\\xc3\\xcc\\x13\\xe3p\\xe3\\xc6)\\xf8\\x98Kt\\x83\\x9f\\xa9Qd\\n,E\\xd0\\x10\\xe2]!Qw\\x1ce\\xc1\\xab>K\\x8d\\xfa\\xfe\\xc0\\xe2\\xe1\\xcb\\xc4~\\t\\x07\\x1dP\\nP\\xcf(QeB.]\\x89T\\xdb\\x9c\\x97c\\xc1\\x84A\\xaco-\\xaa\\rYZ\\xab\\xda\\x9b~\\xef\\x07\\x19\\xac\\xaa\\xf3\\x08\\xe1H\\xfd\\x0b\\xf8\\xd25^m\\xb7\\x1fS~\\xef\\xf1i?\\xdb\\xeaq\\x05S\\x84\\x985\\x1a\\xea\\xa8\\xb5\"g\\x9f\\xc1Sl\\xcc4\\xe9\\xfaP{\\x00\\xc3\\x81]\\xf07\\xa4\\xe7\\x93\\xd3$gT\\xe7Txt\\xafl\\xf2\\x97\\x86\\xad\\x02\\xbe\\xae7\\xd5\\x00h\\x94\\x99m\\x13\\xb5\\xdd7\\xcfK\\xf7(\\xbe\\xa1U\\xab\\x04\\x93\\xc9\\xe4&i?\\xc5\\xbc\\x86\\xa7f-\\xcd3\\xd5\\x8d\\xfc\\x80\\xdaXP\\xd1\\xadB\\x9c\\x84&\\x9d:#I\\x07\\xad\\x8b+\\xd4\\x1d{\\x90\\xf0\\xa1\\xc2\\x88\\xef\\xe6#~\\xfc\\xc1\\xdaHQ\\xce\\xba\\xd7\\xf2\\xe8\\r\\x80\\xd43\\xe9\\xc4Eq\\xad\\x1e\\xe5\\xbc\\x80?A\\xff\\xc3\\x15\\xedKj+U\\x87z(f\\xd0G\\xbcu\\x84\\xed\\x0bO\\xae\\x0eo\\xf4b>\\x14\"JG\\x9e\\x1a\\xa9\\x17\\xf9\\xba\\xfe#\\xd1qw\\x8d\\x11+\\\\;\\xf4\\x92\\xa9\\xd4\\xb0\\xae\\x04\\xa7-\\r(\\x13\\xa6l\\xb5\\xad\\x9ex}\\xa6)\\xd0\\xb1\\xab\\xa4\\xc3\\xcc\\x13\\xe3p\\xe3\\xc6)\\xf8\\x98Kt\\x83\\x9f\\xa9Qd\\n,E\\xd0\\x10\\xe2]!Qw\\x1ce\\xc1\\xab>K\\x8d\\xfa\\xfe\\xc0\\xe2\\xe1\\xcb\\x8bw\\xbf\\xf5\\xdae#X\\xd7O\\x86.\\x07z\\xbb?\\xe32\\xff\\xcb\\x19\\x18\\xc6~\\x1f+\\xf5\\xdbz\\x14C\\x98_\\xb2\\xb4\\xfb\\xc2\\x0b\\x03\\xd2\\xd7O\\x86.\\x07z\\xbb?\\xe32\\xff\\xcb\\x19\\x18\\xc6~\\x13\\xd8C\\x86X\\xf1\\xb1Ho\\xb32\\xa6\\x0eB\\xb3\\xc5\\x0c\\xcaj4\\xd3\\xee Pm\\xe8F!8\\x03\\xe5\\xd7\\x11\\xbf(\\xc7\\xd2~z\\xef\\x0fXn}igjN\\xff\\x1ca\\xe12{7\\xe0\\xb7\\xdc\\xda\\xb1\\xb3\\x9e0/\\x92\\xe9t\\xdd\\x1e%\\xa94\\x81z}:p\\xd3f&\\xec.\\xee\\x12\\x85(\\xce\\xad\\x84\\x9a=\\x92\\xb8\\xda!k\\x96\\x81\\x93y\\\\\\xdd\\xca\\xe8\\xd8\\x8ct\\x19U\\x0bu\\xfa\\xe4\\xe6\\x1fQ\\x1c\\xe7\\xe7&\\x96Y\\xc7^\\xc7\\xd5H b\\x94w\\xf5\\x07Z;\\xbeU\\xd8\\xcc\\xe6sU)\\xfa\\x973\\x82G\\x0b/\\x8e\\xac\\x1a\\xb0\\xfbO\\x06\\xe8\\xfc\\x93\\xd57\\xa4\\xaeb%\\xa7\\xa8\\xd0\\xc4\\x84\\xc7\\xb9x\\xc9\\xfd=\\xb3f\\xbd^\\xab]L'\n",
      "\n",
      "Decrypted:\n",
      "b\"Metallica - Nothing Else Matters\\n\\nSo close, no matter how far\\nCouldn't be much more from the heart\\nForever trusting who we are\\nAnd nothing else matters\\nNever opened myself this way\\nLife is ours, we live it our way\\nAll these words I don't just say\\nAnd nothing else matters\\nTrust I seek and I find in you\\nEvery day for us something new\\nOpen mind for a different view\\nAnd nothing else matters\\nNever cared for what they do\\nNever cared for what they know\\nBut I know\\nSo close, no matter how far\\nCouldn't be much more from the heart\\nForever trusting who we are\\nAnd nothing else matters\\nNever cared for what they do\\nNever cared for what they know\\nBut I know\\nI never opened myself this way\\nLife is ours, we live it our way\\nAll these words I don't just say\\nAnd nothing else matters\\nTrust I seek and I find in you\\nEvery day for us, something new\\nOpen mind for a different view\\nAnd nothing else matters\\nNever cared for what they say\\nNever cared for games they play\\nNever cared for what they do\\nNever cared for what they know\\nAnd I know, yeah!\\nSo close, no matter how far\\nCouldn't be much more from the heart\\nForever trusting who we are\\nNo, nothing else matters    \"\n"
     ]
    }
   ],
   "source": [
    "body = nothing_else_matters +  ' '*(len(nothing_else_matters)%8)\n",
    "\n",
    "key = b'BielanMykhailoSerhiyovyc'\n",
    "cipher = DES3.new(key, DES3.MODE_ECB)\n",
    "encrypted = cipher.encrypt(body)\n",
    "decrypted = cipher.decrypt(encrypted)\n",
    "\n",
    "print('Encrypted:\\n{}\\n\\nDecrypted:\\n{}'.format(encrypted, decrypted))"
   ]
  },
  {
   "cell_type": "markdown",
   "metadata": {},
   "source": [
    "### RSA"
   ]
  },
  {
   "cell_type": "markdown",
   "metadata": {},
   "source": [
    "Генерація ключів:\n",
    "1. Обираємо 2 простих числа у межах від 2^7 до 2^8: $$p = 29\\text{, }q = 31$$\n",
    "2. Модуль ключа: $$n=p \\cdot q=29\\cdot31=899$$\n",
    "3. Функція Ейлера для простого числа: $$F(n) = F(p)*F(q)=(p-1)*(q-1)$$\n",
    "4. Обирається **відкрита експонента** число, що задовольняє умові $1<e<F(n)$ та є взаємно простою зі значенням функції Ейлера. Зазвичай в якості беруть прості числа, що містять невелику кількість одиничних біт в двійковій запису, наприклад, прості числа Ферма 17, 257 або 65537. Оберемо: $$e=257$$ \n",
    "5. Обчислюється число, зворотньо мультиплікативне до числа по модулю, тобто число, яке задовольняє порівнянні: $d=\\dfrac{k \\cdot F(n)+ 1}{e}$ Послідовно перебираючи  $k=i=1, \\ldots, n$, отримуємо: $$d=353\\text{, для }k=108$$\n",
    "6. Отже, пара {257, 899} — це публічний ключ, а пара {353, 899} — приватний ключ"
   ]
  },
  {
   "cell_type": "code",
   "execution_count": 83,
   "metadata": {},
   "outputs": [],
   "source": [
    "d = 353\n",
    "e = 257 \n",
    "n = 899\n",
    "p = 29\n",
    "q = 31\n",
    "\n",
    "def encrypt_rsa(C):\n",
    "    return (C**e) % n\n",
    "\n",
    "def decrypt_rsa(C):\n",
    "    return (C**d) % n"
   ]
  },
  {
   "cell_type": "code",
   "execution_count": 85,
   "metadata": {},
   "outputs": [
    {
     "name": "stdout",
     "output_type": "stream",
     "text": [
      "Student name: b'Mykhailo Bielan'\n",
      "Student name in ASCII: 7712110710497105108111326610510110897110\n",
      "Encrypted with RSA: 891660227220791731473551566367371514779183\n",
      "Decrypted with RSA: 7712110710497105108111326610510110897110\n"
     ]
    }
   ],
   "source": [
    "student_name_ascii = [symbol for symbol in student]\n",
    "\n",
    "\n",
    "encrypted_student_name = [encrypt_rsa(C) for C in student_name_ascii]\n",
    "decrypted_student_name = [decrypt_rsa(C) for C in encrypted_student_name]\n",
    "\n",
    "print('Student name: {}'.format(student))\n",
    "print('Student name in ASCII: {}'.format(''.join(map(str,student_name_ascii))))\n",
    "print('Encrypted with RSA: {}'.format(''.join(map(str,encrypted_student_name))))\n",
    "print('Decrypted with RSA: {}'.format(''.join(map(str,decrypted_student_name))))"
   ]
  },
  {
   "cell_type": "markdown",
   "metadata": {},
   "source": [
    "#### using pycrypto"
   ]
  },
  {
   "cell_type": "code",
   "execution_count": 179,
   "metadata": {},
   "outputs": [],
   "source": [
    "key = RSA.generate(1024, e = 257)\n",
    "rsa_cipher = PKCS1_v1_5.new(key)\n",
    "rsa_encrypted_student_name = rsa_cipher.encrypt(student)\n",
    "rsa_decrypted_student_name = rsa_cipher.decrypt(rsa_encrypted_student_name, {})"
   ]
  },
  {
   "cell_type": "code",
   "execution_count": 180,
   "metadata": {},
   "outputs": [
    {
     "name": "stdout",
     "output_type": "stream",
     "text": [
      "Student name: b'Mykhailo Bielan'\n",
      "Encrypted with RSA: b'3\\xa9I\\xc4\\xb8\\xdf\\x14\\x1dI\\xcb\\x8b{,\\xe3\\xbb\\x96\\xca\\xc7\\xdf\\xd4;d\\x1f\\xbd\\xd7\\x02\\x06\\x19\\x08\\xd1\\xf6x{\\xe2\\xd9\\xba\\x1d\\xbc_{\\xd6\\x87\\x08\\xe5\\xc4i\\x9a\\x18h\\xc7\\xb6\\xd9\\xca.\\xd1Ex\\xf1\\x8a\\x0b\\x86\\x19\\x18[F\\x03\\x84\\x0c\\xc4\\x07\\xc7\\xb8\\xc6en\\x89\\xdcO!`S\\xd82\\x16\\x05\\xdb\\xb7\\xcf\\x1bQ\\xbc\\x9e\\x80\\xde\\x1es\\xc18\\xd0\\xd6\\x0b\\xc97\\xa7\\x97\\xf3[+\\x83\\x05\\xf3\\x83\\\\\\x80\\xecws\\x12\\xa5\\xb8r\\t\\xff \\xcb?8\\x0e'\n",
      "Decrypted with RSA: b'Mykhailo Bielan'\n"
     ]
    }
   ],
   "source": [
    "print('Student name: {}'.format(student))\n",
    "print('Encrypted with RSA: {}'.format(rsa_encrypted_student_name))\n",
    "print('Decrypted with RSA: {}'.format(rsa_decrypted_student_name))"
   ]
  },
  {
   "cell_type": "code",
   "execution_count": null,
   "metadata": {},
   "outputs": [],
   "source": [
    "key = RSA.generate(2**14, e = 257)\n",
    "rsa_cipher = PKCS1_v1_5.new(key)"
   ]
  },
  {
   "cell_type": "code",
   "execution_count": null,
   "metadata": {},
   "outputs": [],
   "source": [
    "rsa_encrypted_file = rsa_cipher.encrypt(nothing_else_matters.encode())\n",
    "rsa_decrypted_file = rsa_cipher.decrypt(rsa_encrypted_file, {})"
   ]
  },
  {
   "cell_type": "code",
   "execution_count": 178,
   "metadata": {},
   "outputs": [
    {
     "name": "stdout",
     "output_type": "stream",
     "text": [
      "File text:\n",
      "Metallica - Nothing Else Matters\n",
      "\n",
      "So close, no matter how far\n",
      "Couldn't be much more from the heart\n",
      "Forever trusting who we are\n",
      "And nothing else matters\n",
      "Never opened myself this way\n",
      "Life is ours, we live it our way\n",
      "All these words I don't just say\n",
      "And nothi\n",
      "\n",
      "Encrypted with RSA:\n",
      "b'\\x95\\xd7R\\xa3W\\xe1H\\x84\\xe9\\x11\\xd7G\\xd5c\\x0b\\x90\\x1enp0\\xcaw\\xc3\\x12\\xdf\\xec\\xb2\\xd4m\\x9f\\x03\\xad\\xcf\\xf7u\\xf6\\x91\\x8eH\\xc3l\\xb8\\xc3\\xfaNd\\x9cC\\xb0\\xcdM\\xae \\xc7\\x81$\\xda`~\\x02\\x99\\x80\\xc7\\xa0\\xb3\\x0b\\xdfN\\xc1\\xdd\\xb1F5M\\x0b\\n\\x1e\\xd1\\xa3\\'O\\xc2\\xf98!\\xda\\xbay\\x10}\\xd2/\\xea0X\\x89\\x87(\\xf0\\x95\\x82EvEE-~\\xb2\\xc5\\x87A^\\x91\\xcd\\x1a\\xa5\\xc9ri\\xba\\xe08=^\\xf1!,\\xa7u%\\x88\\xdf\\xae0?zN=\\xcb\\xcb\\x83}I7\\xc8\\xda\\xeeKs\\x17\\xc2\\x9c\\xe7\\xaf\\x0e!?\\r\\x9c\\xf2l\\xad\\x9e\\xd6g\\x9c\\xaf\\xee\\x90?\\x8c\\xf9[cm6\\'\\x1az|9\\xfd^\\tI\\x7fn\\xef\\xc4\\x11\\xf7\\xa1\\x1ad\\x80\\x7f\\xf6\\x94\\x93\\xb1\\xb5!\\x8a\\x8den\\xd1\\xe4\\xa3r\\x12\\x84G\"y\\xbd\\xbe|\\xa4rH<\\x18ot\\x81\\xcaEa\\x93Nl\\xab\\x85\\x04}\\x8a\\x98\\xf16\\xb5\\xae]\\xf6\\xf8e\\xdd\\xf13\\xde\\xb4\\x96\\xe7\\x13\\xf2\\xa0'\n",
      "\n",
      "Decrypted with RSA:\n",
      "b\"Metallica - Nothing Else Matters\\n\\nSo close, no matter how far\\nCouldn't be much more from the heart\\nForever trusting who we are\\nAnd nothing else matters\\nNever opened myself this way\\nLife is ours, we live it our way\\nAll these words I don't just say\\nAnd nothi\"\n"
     ]
    }
   ],
   "source": [
    "print('File text:\\n{}\\n'.format(nothing_else_matters[:256]))\n",
    "print('Encrypted with RSA:\\n{}\\n'.format(rsa_encrypted_file[:256]))\n",
    "print('Decrypted with RSA:\\n{}'.format(rsa_decrypted_file[:256]))"
   ]
  },
  {
   "cell_type": "markdown",
   "metadata": {},
   "source": [
    "### LSB "
   ]
  },
  {
   "cell_type": "code",
   "execution_count": 4,
   "metadata": {},
   "outputs": [],
   "source": [
    "class LSB:\n",
    "    \n",
    "    def __init__(self):\n",
    "        pass\n",
    "    \n",
    "    def encode(self, message, containeer, encrypted_name):\n",
    "        \n",
    "        for byte in message:\n",
    "            containeer.encrypt_next_byte(byte)\n",
    "        \n",
    "        image = containeer.end()\n",
    "        image.save(encrypted_name)\n",
    "    \n",
    "    def decode(self, containeer):\n",
    "        containeer_as_message = ContaineerMessage(containeer.file_name)\n",
    "        \n",
    "        bit_builder = BitMessageContaineer()\n",
    "        for bits in containeer_as_message:\n",
    "            bit_builder.append(bits)\n",
    "            \n",
    "        return bit_builder.build()\n",
    "    \n",
    "\n",
    "class BitMessageContaineer:\n",
    "    \n",
    "    def __init__(self):\n",
    "        self.message = 0\n",
    "        \n",
    "    def append(self, i):\n",
    "        self.message = (self.message << 2) | (i & 3)\n",
    "        \n",
    "    def build(self):\n",
    "        s = ''\n",
    "        \n",
    "        while self.message:\n",
    "            s += chr(self.message & 255)\n",
    "            self.message = self.message >> 8\n",
    "        return s\n",
    "\n",
    "class FileLSBMessage:\n",
    "    \n",
    "    def __init__(self, file_name):\n",
    "        self.file_name = file_name\n",
    "    \n",
    "    def __iter__(self):\n",
    "        with open(self.file_name, \"rb\") as file:\n",
    "            byte = file.read(1)\n",
    "            while byte:\n",
    "                byte = ord(byte)\n",
    "                yield byte\n",
    "                byte = file.read(1)\n",
    "\n",
    "class ContaineerMessage:\n",
    "    \n",
    "    def __init__(self, file_name):\n",
    "        self.img = Image.open(file_name)\n",
    "    \n",
    "        alpha = list(map(lambda t: t[3], self.img.getdata()))\n",
    "        self.size = len(alpha) // 4\n",
    "        \n",
    "        bits = math.floor(math.log2(self.size)) + 1\n",
    "        bytes_head = bits // 2 + bits % 2\n",
    "        self._alpha = alpha\n",
    "        self._bytes_head = bytes_head\n",
    "        self._next_byte = bytes_head + 1\n",
    "    \n",
    "    def __iter__(self):\n",
    "        count = 0\n",
    "        \n",
    "        for i in range(self._bytes_head):\n",
    "            bits = (self._alpha[i] & 3) << (i * 2)\n",
    "            count = count | bits        \n",
    "        \n",
    "        for i in range(count, self._next_byte - 1, -1):\n",
    "            yield self._alpha[i]\n",
    "        \n",
    "        \n",
    "    \n",
    "class TwoBitsBMPContaineer:\n",
    "    \n",
    "    def __init__(self, file_name):\n",
    "        self.file_name = file_name\n",
    "        self.img = Image.open(file_name)\n",
    "    \n",
    "        alpha = list(map(lambda t: t[3], self.img.getdata()))\n",
    "        self.size = len(alpha) // 4\n",
    "        \n",
    "        \n",
    "        bits = math.floor(math.log2(self.size)) + 1\n",
    "        bytes_head = bits // 2 + bits % 2\n",
    "        self._alpha = alpha\n",
    "        self._bytes_head = bytes_head\n",
    "        self._next_byte = bytes_head + 1\n",
    "\n",
    "    def get_size(self):\n",
    "        return self.size\n",
    "        \n",
    "    def encrypt_next_byte(self, byte):\n",
    "        next_alpha_byte = self._alpha[self._next_byte]\n",
    "        \n",
    "        for bit in (0, 2, 4, 6):\n",
    "            mask = 2**bit + 2**(bit + 1)\n",
    "            two_bits = (mask & byte) >> bit\n",
    "            next_alpha_byte = self._alpha[self._next_byte]\n",
    "            new_byte = ((next_alpha_byte >> 2) << 2) | two_bits\n",
    "            self._alpha[self._next_byte] = new_byte\n",
    "\n",
    "            self._next_byte += 1 \n",
    "        \n",
    "    def end(self):\n",
    "        \n",
    "        size = self._next_byte - 1\n",
    "        for i in range(self._bytes_head):\n",
    "            alpha_byte = self._alpha[i]\n",
    "            bits = (size & 3)\n",
    "            new_byte = ((alpha_byte >> 2) << 2) | bits\n",
    "            self._alpha[i] = new_byte\n",
    "            size = size >> 2\n",
    "\n",
    "        data = list(self.img.getdata())\n",
    "        \n",
    "        for i in range(self._next_byte):\n",
    "            r,g,b,l = data[i]\n",
    "            data[i] = (r, g, b, self._alpha[i])\n",
    "    \n",
    "        self.img.putdata(data)\n",
    "        return self.img"
   ]
  },
  {
   "cell_type": "code",
   "execution_count": 5,
   "metadata": {},
   "outputs": [],
   "source": [
    "encrypted_name = 'data/encrypted.png'\n",
    "\n",
    "lsb = LSB()\n",
    "lsb.encode(FileLSBMessage(path), TwoBitsBMPContaineer('data/256x256.png'), encrypted_name)\n",
    "\n",
    "encrypted_containeer = TwoBitsBMPContaineer(encrypted_name)\n",
    "decoded_message = lsb.decode(encrypted_containeer)"
   ]
  },
  {
   "cell_type": "code",
   "execution_count": 6,
   "metadata": {},
   "outputs": [
    {
     "name": "stdout",
     "output_type": "stream",
     "text": [
      "This is the JCrypTool sample file.\n",
      "\n",
      "You can use this file for a fast start with JCrypTool, e.g. by\n",
      "encrypting or digitally signing it using the 'Algorithms' menu,\n",
      "or by applying one of the analysis offered in the\n",
      "'Analysis' menu.\n",
      "\n"
     ]
    }
   ],
   "source": [
    "print(decoded_message)"
   ]
  },
  {
   "cell_type": "code",
   "execution_count": null,
   "metadata": {},
   "outputs": [],
   "source": []
  }
 ],
 "metadata": {
  "kernelspec": {
   "display_name": "Python 3",
   "language": "python",
   "name": "python3"
  },
  "language_info": {
   "codemirror_mode": {
    "name": "ipython",
    "version": 3
   },
   "file_extension": ".py",
   "mimetype": "text/x-python",
   "name": "python",
   "nbconvert_exporter": "python",
   "pygments_lexer": "ipython3",
   "version": "3.6.4"
  }
 },
 "nbformat": 4,
 "nbformat_minor": 2
}
